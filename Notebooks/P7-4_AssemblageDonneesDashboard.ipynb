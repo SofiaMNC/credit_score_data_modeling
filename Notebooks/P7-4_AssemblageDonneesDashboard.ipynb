{
 "cells": [
  {
   "cell_type": "markdown",
   "metadata": {},
   "source": [
    "# **Implémentation d'un modèle de scoring**\n",
    "## **Notebook 6/6 - Assemblage des données TEST pour le dashboard**\n",
    "*Sofia Chevrolat (Novembre 2020)*\n",
    "___\n",
    "Cette étude vise à réaliser un modèle permettant de prédire le risque de défaut de remboursement d'un prêt pour un client donné. Ce modèle doit être basé sur une variété de données (personnelles, en provenance de différentes sources bancaires, etc.).\n",
    "\n",
    "Ce modèle est destiné à être servi via une API, elle-même appelée via un dashboard interactif. Le modèle devra donc être exporté une fois finalisé.\n",
    "___\n",
    "_**Remerciements**:<br>\n",
    "Merci à mon compagnon [J. Duplan](https://www.linkedin.com/in/julian-duplan-64844a41/) pour les discussions intéressantes.<br>\n",
    "Merci également à mon mentor [Samia Drappeau](https://www.linkedin.com/in/samiadrappeau) pour les échanges d'idées, les conseils et les encouragements !_\n",
    "___\n"
   ]
  },
  {
   "cell_type": "markdown",
   "metadata": {},
   "source": [
    "Ce notebook est organisé comme suit:\n",
    "\n",
    "**0. Mise en place**\n",
    "- 0.1 Chargement des librairies et fonctions utiles\n",
    "- 0.2 Chargement du jeu de données\n",
    "- 0.3 Séparation du jeu de données\n",
    "- 0.3 Chargement du modèle\n",
    "    \n",
    "**1. Exploitation du modèle : Prédictions sur de nouvelles données**\n",
    "- 1.1 Transformation des données pour consommation par le modèle\n",
    "- 1.2 Prédictions parle modèle\n",
    "- 1.3 Export des prédictions"
   ]
  },
  {
   "cell_type": "markdown",
   "metadata": {},
   "source": [
    "___\n",
    "### 0. MISE EN PLACE\n",
    "\n",
    "Dans cette première étape, le cadre de travail est mis en place, c'est-à-dire :\n",
    "- Les librairies et packages Python nécessaires sont chargés\n",
    "- Les fonctions utiles sont définies\n",
    "- Le jeu de données est chargé\n",
    "___"
   ]
  },
  {
   "cell_type": "markdown",
   "metadata": {},
   "source": [
    "___\n",
    "#### 0.1 CHARGEMENT DES LIBRAIRIES ET FONCTIONS UTILES"
   ]
  },
  {
   "cell_type": "code",
   "execution_count": 1,
   "metadata": {},
   "outputs": [],
   "source": [
    "%load_ext autoreload\n",
    "%autoreload 2"
   ]
  },
  {
   "cell_type": "code",
   "execution_count": 2,
   "metadata": {},
   "outputs": [],
   "source": [
    "import numpy as np\n",
    "import pandas as pd\n",
    "from joblib import load"
   ]
  },
  {
   "cell_type": "code",
   "execution_count": 3,
   "metadata": {},
   "outputs": [],
   "source": [
    "from sys import path\n",
    "path.append(\"./Resources/functions\")\n",
    "\n",
    "import helper_functions as hf"
   ]
  },
  {
   "cell_type": "markdown",
   "metadata": {},
   "source": [
    "____\n",
    "#### 0.2 CHARGEMENT DU JEU DE DONNÉES\n",
    "\n",
    "Afin de démontrer toute la chaîne d'exploitation du modèle, cette partie va utiliser le jeu de données TEST application_test.csv.\n",
    "\n",
    "Ces données n'ayant été utilisées dans aucune des différentes étapes d'élaboration du modèle, elles permettent de montrer l'utilisation du modèle avec de nouvelles données."
   ]
  },
  {
   "cell_type": "code",
   "execution_count": 4,
   "metadata": {
    "scrolled": true
   },
   "outputs": [],
   "source": [
    "app_test = pd.read_csv(\"./Resources/datasets/origin/application_test.csv\")\n",
    "\n",
    "bureau_balance = pd.read_csv(\"./Resources/datasets/origin/bureau_balance.csv\")\n",
    "\n",
    "bureau = pd.read_csv(\"./Resources/datasets/origin/bureau.csv\")\n",
    "\n",
    "card = pd.read_csv(\"./Resources/datasets/origin/credit_card_balance.csv\")\n",
    "\n",
    "installments = pd.read_csv(\"./Resources/datasets/origin/installments_payments.csv\")\n",
    "\n",
    "cash = pd.read_csv(\"./Resources/datasets/origin/POS_CASH_balance.csv\")\n",
    "\n",
    "prev_app = pd.read_csv(\"./Resources/datasets/origin/previous_application.csv\")"
   ]
  },
  {
   "source": [
    "___\n",
    "\n",
    "#### 0.3 SÉPARATION DU JEU DE DONNÉES\n",
    "\n",
    "Le jeu de données est séparé en deux :\n",
    "- données pour lesquelles le credit score aura déjà été calculé, qui seront utilisées au démarrage du dashboard, pour être parcourues (_browse).\n",
    "- données pour lesquelles le credit score sera calculé en live par le dashboard (_new)."
   ],
   "cell_type": "markdown",
   "metadata": {}
  },
  {
   "cell_type": "code",
   "execution_count": 5,
   "metadata": {},
   "outputs": [],
   "source": [
    "app_test_browse = app_test[:int(len(app_test)/2)]\n",
    "\n",
    "bureau_browse = bureau[bureau[\"SK_ID_CURR\"].isin(app_test_browse[\"SK_ID_CURR\"])]\n",
    "bureau_balance_browse = bureau_balance[bureau_balance[\"SK_ID_BUREAU\"].isin(bureau_browse[\"SK_ID_BUREAU\"])]\n",
    "card_browse = card[card[\"SK_ID_CURR\"].isin(app_test_browse[\"SK_ID_CURR\"])]\n",
    "installments_browse = installments[installments[\"SK_ID_CURR\"].isin(app_test_browse[\"SK_ID_CURR\"])]\n",
    "cash_browse = cash[cash[\"SK_ID_CURR\"].isin(app_test_browse[\"SK_ID_CURR\"])]\n",
    "prev_app_browse = prev_app[prev_app[\"SK_ID_CURR\"].isin(app_test_browse[\"SK_ID_CURR\"])]"
   ]
  },
  {
   "cell_type": "code",
   "execution_count": 6,
   "metadata": {},
   "outputs": [],
   "source": [
    "app_test_new = app_test[int(len(app_test)/2):]\n",
    "\n",
    "bureau_new = bureau[bureau[\"SK_ID_CURR\"].isin(app_test_new[\"SK_ID_CURR\"])]\n",
    "bureau_balance_new = bureau_balance[bureau_balance[\"SK_ID_BUREAU\"].isin(bureau_new[\"SK_ID_BUREAU\"])]\n",
    "card_new = card[card[\"SK_ID_CURR\"].isin(app_test_new[\"SK_ID_CURR\"])]\n",
    "installments_new = installments[installments[\"SK_ID_CURR\"].isin(app_test_new[\"SK_ID_CURR\"])]\n",
    "cash_new = cash[cash[\"SK_ID_CURR\"].isin(app_test_new[\"SK_ID_CURR\"])]\n",
    "prev_app_new = prev_app[prev_app[\"SK_ID_CURR\"].isin(app_test_new[\"SK_ID_CURR\"])]"
   ]
  },
  {
   "cell_type": "markdown",
   "metadata": {},
   "source": [
    "___\n",
    "#### 0.4 CHARGEMENT DU MODÈLE"
   ]
  },
  {
   "cell_type": "code",
   "execution_count": 7,
   "metadata": {},
   "outputs": [],
   "source": [
    "model = load('../lgbm_trained_model_whole_dataset.joblib')"
   ]
  },
  {
   "cell_type": "markdown",
   "metadata": {},
   "source": [
    "___\n",
    "### 1. EXPLOITATION DU MODÈLE : PRÉDICTIONS SUR DE NOUVELLES DONNÉEs"
   ]
  },
  {
   "cell_type": "markdown",
   "metadata": {},
   "source": [
    "___\n",
    "#### 1.1 TRANSFORMATION DES DONNÉES POUR CONSOMMATION PAR LE MODÈLE"
   ]
  },
  {
   "cell_type": "code",
   "execution_count": 8,
   "metadata": {},
   "outputs": [
    {
     "output_type": "stream",
     "name": "stdout",
     "text": [
      "Original Memory Usage: 0.02 gb.\n",
      "New Memory Usage: 0.01 gb.\n",
      "Original Memory Usage: 0.15 gb.\n",
      "New Memory Usage: 0.08 gb.\n",
      "There are 0 columns with greater than 90% missing values.\n",
      "Original Memory Usage: 0.04 gb.\n",
      "New Memory Usage: 0.01 gb.\n",
      "There are 6 columns with greater than 90% missing values.\n",
      "Original Memory Usage: 0.05 gb.\n",
      "New Memory Usage: 0.03 gb.\n",
      "There are 0 columns with greater than 90% missing values.\n",
      "Original Memory Usage: 0.06 gb.\n",
      "New Memory Usage: 0.03 gb.\n",
      "There are 0 columns with greater than 90% missing values.\n",
      "Original Memory Usage: 0.07 gb.\n",
      "New Memory Usage: 0.04 gb.\n",
      "There are 0 columns with greater than 90% missing values.\n"
     ]
    },
    {
     "output_type": "execute_result",
     "data": {
      "text/plain": [
       "(24372, 141)"
      ]
     },
     "metadata": {},
     "execution_count": 8
    }
   ],
   "source": [
    "model_ready_df = hf.transform_data(app_test_browse, \n",
    "                                   bureau_browse,                                   \n",
    "                                   bureau_balance_browse,\n",
    "                                   card_browse, \n",
    "                                   cash_browse, \n",
    "                                   installments_browse,\n",
    "                                   prev_app_browse)\n",
    "\n",
    "model_ready_df.shape"
   ]
  },
  {
   "cell_type": "markdown",
   "metadata": {},
   "source": [
    "___\n",
    "#### 1.2 PRÉDICTIONS PAR LE MODÈLE"
   ]
  },
  {
   "cell_type": "code",
   "execution_count": 9,
   "metadata": {},
   "outputs": [],
   "source": [
    "# Predictions on the test data\n",
    "credit_score_predictions = model.predict_proba(model_ready_df)[:, 1]"
   ]
  },
  {
   "cell_type": "code",
   "execution_count": 10,
   "metadata": {},
   "outputs": [],
   "source": [
    "predictions_df = pd.DataFrame(data=credit_score_predictions*100)\\\n",
    "                   .rename(columns={0:\"Credit Score\"})"
   ]
  },
  {
   "cell_type": "code",
   "execution_count": 11,
   "metadata": {},
   "outputs": [],
   "source": [
    "predictions_df = pd.concat([app_test_browse[\"SK_ID_CURR\"], predictions_df], axis=1)"
   ]
  },
  {
   "cell_type": "markdown",
   "metadata": {},
   "source": [
    "___\n",
    "#### 1.3 EXPORT DES DONNÉES ET PRÉDICTIONS"
   ]
  },
  {
   "cell_type": "code",
   "execution_count": 12,
   "metadata": {},
   "outputs": [],
   "source": [
    "# Exporting predictions\n",
    "predictions_df.to_csv(\"./Resources/datasets/assembled/dashboard/browse/predictions_test.csv\")"
   ]
  },
  {
   "cell_type": "code",
   "execution_count": 13,
   "metadata": {},
   "outputs": [],
   "source": [
    "# Removing anomaly from already processed data\n",
    "app_test_browse['DAYS_EMPLOYED'].replace({365243: np.nan}, inplace = True)\n",
    "\n",
    "# Exporting browse data\n",
    "app_test_browse.to_csv(\"./Resources/datasets/assembled/dashboard/browse/application_test.csv\")\n",
    "bureau_browse.to_csv(\"./Resources/datasets/assembled/dashboard/browse/bureau.csv\")\n",
    "bureau_balance_browse.to_csv(\"./Resources/datasets/assembled/dashboard/browse/bureau_balance.csv\")\n",
    "card_browse.to_csv(\"./Resources/datasets/assembled/dashboard/browse/card.csv\")\n",
    "installments_browse.to_csv(\"./Resources/datasets/assembled/dashboard/browse/installments.csv\")\n",
    "cash_browse.to_csv(\"./Resources/datasets/assembled/dashboard/browse/cash.csv\")\n",
    "prev_app_browse.to_csv(\"./Resources/datasets/assembled/dashboard/browse/prev_app.csv\")"
   ]
  },
  {
   "cell_type": "code",
   "execution_count": 14,
   "metadata": {},
   "outputs": [],
   "source": [
    "# Exporting new data\n",
    "app_test_new.to_csv(\"./Resources/datasets/assembled/dashboard/new/application_test.csv\")\n",
    "bureau_new.to_csv(\"./Resources/datasets/assembled/dashboard/new/bureau.csv\")\n",
    "bureau_balance_new.to_csv(\"./Resources/datasets/assembled/dashboard/new/bureau_balance.csv\")\n",
    "card_new.to_csv(\"./Resources/datasets/assembled/dashboard/new/card.csv\")\n",
    "installments_new.to_csv(\"./Resources/datasets/assembled/dashboard/new/installments.csv\")\n",
    "cash_new.to_csv(\"./Resources/datasets/assembled/dashboard/new/cash.csv\")\n",
    "prev_app_new.to_csv(\"./Resources/datasets/assembled/dashboard/new/prev_app.csv\")"
   ]
  }
 ],
 "metadata": {
  "kernelspec": {
   "display_name": "Python 3",
   "language": "python",
   "name": "python3"
  },
  "language_info": {
   "codemirror_mode": {
    "name": "ipython",
    "version": 3
   },
   "file_extension": ".py",
   "mimetype": "text/x-python",
   "name": "python",
   "nbconvert_exporter": "python",
   "pygments_lexer": "ipython3",
   "version": "3.7.6-final"
  }
 },
 "nbformat": 4,
 "nbformat_minor": 4
}